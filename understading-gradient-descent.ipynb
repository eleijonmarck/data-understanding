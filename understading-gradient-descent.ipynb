{
 "cells": [
  {
   "cell_type": "markdown",
   "metadata": {},
   "source": [
    "# An Introduction to Gradient Descent w. Linear Regression"
   ]
  },
  {
   "cell_type": "markdown",
   "metadata": {},
   "source": [
    "Gradient descent is one of those “greatest hits” algorithms that can offer a new perspective for solving problems. Unfortunately, it’s rarely taught in undergraduate computer science programs. In this post I’ll give an introduction to the gradient descent algorithm, and walk through an example that demonstrates how gradient descent can be used to solve machine learning problems such as linear regression.\n",
    "\n",
    "Gradient descent is _**widely**_ used in Machine Learning and Deep Learning"
   ]
  },
  {
   "cell_type": "code",
   "execution_count": 201,
   "metadata": {},
   "outputs": [],
   "source": [
    "import pandas as pd\n",
    "import numpy as np\n",
    "import altair as alt"
   ]
  },
  {
   "cell_type": "code",
   "execution_count": 202,
   "metadata": {},
   "outputs": [],
   "source": [
    "###########\n",
    "# actual data\n",
    "###########\n",
    "\n",
    "data = pd.read_csv('demo.txt')"
   ]
  },
  {
   "cell_type": "code",
   "execution_count": 203,
   "metadata": {},
   "outputs": [
    {
     "data": {
      "application/vnd.vegalite.v3+json": {
       "$schema": "https://vega.github.io/schema/vega-lite/v3.2.1.json",
       "config": {
        "mark": {
         "tooltip": null
        },
        "view": {
         "height": 300,
         "width": 400
        }
       },
       "data": {
        "name": "data-9e83173549dbe3df1e2a106b1a4d0e45"
       },
       "datasets": {
        "data-9e83173549dbe3df1e2a106b1a4d0e45": [
         {
          "x": 32.50234526945303,
          "y": 31.70700584656992
         },
         {
          "x": 53.426804033275026,
          "y": 68.77759598163891
         },
         {
          "x": 61.53035802563643,
          "y": 62.562382297945796
         },
         {
          "x": 47.4756396347861,
          "y": 71.54663223356778
         },
         {
          "x": 59.81320786951232,
          "y": 87.23092513368738
         },
         {
          "x": 55.14218841394383,
          "y": 78.21151827079923
         },
         {
          "x": 52.211796692214,
          "y": 79.64197304980873
         },
         {
          "x": 39.299566694317065,
          "y": 59.17148932186951
         },
         {
          "x": 48.10504169176824,
          "y": 75.33124229706307
         },
         {
          "x": 52.55001444273382,
          "y": 71.30087988685035
         },
         {
          "x": 45.419730144973755,
          "y": 55.16567714595912
         },
         {
          "x": 54.351634881228925,
          "y": 82.47884675749792
         },
         {
          "x": 44.164049496773345,
          "y": 62.00892324572583
         },
         {
          "x": 58.16847071685778,
          "y": 75.39287042599494
         },
         {
          "x": 56.727208057096604,
          "y": 81.43619215887864
         },
         {
          "x": 48.95588856609372,
          "y": 60.72360244067397
         },
         {
          "x": 44.6871962314809,
          "y": 82.8925037314537
         },
         {
          "x": 60.297326851333466,
          "y": 97.37989686216608
         },
         {
          "x": 45.61864377295583,
          "y": 48.84715331735507
         },
         {
          "x": 38.816817537445644,
          "y": 56.8772131862685
         },
         {
          "x": 66.1898166067526,
          "y": 83.87856466460275
         },
         {
          "x": 65.41605174513407,
          "y": 118.5912173025225
         },
         {
          "x": 47.48120860786787,
          "y": 57.25181946226897
         },
         {
          "x": 41.57564261748703,
          "y": 51.391744079832314
         },
         {
          "x": 51.84518690563943,
          "y": 75.38065166531234
         },
         {
          "x": 59.37082201108952,
          "y": 74.76556403215137
         },
         {
          "x": 57.31000343834809,
          "y": 95.45505292257471
         },
         {
          "x": 63.61556125145329,
          "y": 95.2293660175553
         },
         {
          "x": 46.73761940797697,
          "y": 79.05240616956559
         },
         {
          "x": 50.556760148547774,
          "y": 83.4320714213237
         },
         {
          "x": 52.22399608555305,
          "y": 63.358790317497885
         },
         {
          "x": 35.56783004774663,
          "y": 41.41288530370056
         },
         {
          "x": 42.43647694405564,
          "y": 76.61734128007404
         },
         {
          "x": 58.16454011019286,
          "y": 96.76956642610821
         },
         {
          "x": 57.504447615341775,
          "y": 74.08413011660254
         },
         {
          "x": 45.440530725319974,
          "y": 66.5881444142286
         },
         {
          "x": 61.89622268029126,
          "y": 77.76848241779301
         },
         {
          "x": 33.09383173616396,
          "y": 50.719588912312076
         },
         {
          "x": 36.436009511386864,
          "y": 62.12457081807179
         },
         {
          "x": 37.675654860850734,
          "y": 60.81024664990221
         },
         {
          "x": 44.555608383275356,
          "y": 52.68298336638778
         },
         {
          "x": 43.31828263186572,
          "y": 58.569824717692875
         },
         {
          "x": 50.07314563228904,
          "y": 82.90598148507051
         },
         {
          "x": 43.870612645218365,
          "y": 61.424709804339116
         },
         {
          "x": 62.99748074755309,
          "y": 115.24415280079529
         },
         {
          "x": 32.669043763467194,
          "y": 45.57058882337609
         },
         {
          "x": 40.166899008703695,
          "y": 54.08405479622361
         },
         {
          "x": 53.575077531673664,
          "y": 87.99445275811043
         },
         {
          "x": 33.86421497177824,
          "y": 52.72549437590042
         },
         {
          "x": 64.7071386661213,
          "y": 93.57611869265823
         },
         {
          "x": 38.11982402682281,
          "y": 80.16627544737095
         },
         {
          "x": 44.5025380646451,
          "y": 65.10171157056033
         },
         {
          "x": 40.59953838455232,
          "y": 65.56230126040037
         },
         {
          "x": 41.72067635634129,
          "y": 65.28088692082282
         },
         {
          "x": 51.0886346783368,
          "y": 73.4346415463243
         },
         {
          "x": 55.0780959049232,
          "y": 71.13972785861894
         },
         {
          "x": 41.3777265348952,
          "y": 79.10282968354986
         },
         {
          "x": 62.49469742726979,
          "y": 86.52053844034715
         },
         {
          "x": 49.203887540825995,
          "y": 84.7426978078262
         },
         {
          "x": 41.102685187349664,
          "y": 59.358850248624925
         },
         {
          "x": 41.18201610516983,
          "y": 61.68403752483361
         },
         {
          "x": 50.1863894948806,
          "y": 69.84760415824918
         },
         {
          "x": 52.378446219236224,
          "y": 86.0982912057741
         },
         {
          "x": 50.135485486286115,
          "y": 59.10883926769964
         },
         {
          "x": 33.64470600619178,
          "y": 69.89968164362763
         },
         {
          "x": 39.55790122290683,
          "y": 44.8624907111644
         },
         {
          "x": 56.13038881687546,
          "y": 85.49806777884022
         },
         {
          "x": 57.36205213323824,
          "y": 95.53668684646723
         },
         {
          "x": 60.269214393997906,
          "y": 70.2519344197716
         },
         {
          "x": 35.678093889410725,
          "y": 52.72173496477498
         },
         {
          "x": 31.58811699813283,
          "y": 50.3926701350799
         },
         {
          "x": 53.66093226167304,
          "y": 63.642398775657746
         },
         {
          "x": 46.682228649471924,
          "y": 72.24725106866238
         },
         {
          "x": 43.10782021910247,
          "y": 57.8125129761814
         },
         {
          "x": 70.34607561504933,
          "y": 104.2571015854382
         },
         {
          "x": 44.49285588085407,
          "y": 86.642020318822
         },
         {
          "x": 57.5045333032684,
          "y": 91.48677800011014
         },
         {
          "x": 36.930076609191815,
          "y": 55.23166088621284
         },
         {
          "x": 55.80573335794274,
          "y": 79.55043667850762
         },
         {
          "x": 38.95476907337706,
          "y": 44.8471242424676
         },
         {
          "x": 56.90121470224707,
          "y": 80.20752313968275
         },
         {
          "x": 56.868900661384046,
          "y": 83.14274979204346
         },
         {
          "x": 34.33312470421609,
          "y": 55.72348926054392
         },
         {
          "x": 59.04974121466682,
          "y": 77.63418251167785
         },
         {
          "x": 57.788223993230666,
          "y": 99.05141484174827
         },
         {
          "x": 54.28232870596741,
          "y": 79.12064627468001
         },
         {
          "x": 51.088719898979136,
          "y": 69.58889785111847
         },
         {
          "x": 50.282836348230724,
          "y": 69.51050331149439
         },
         {
          "x": 44.21174175209011,
          "y": 73.68756431831729
         },
         {
          "x": 38.00548800806069,
          "y": 61.36690453724013
         },
         {
          "x": 32.940479942618296,
          "y": 67.17065576899512
         },
         {
          "x": 53.69163957107006,
          "y": 85.66820314500154
         },
         {
          "x": 68.76573426962166,
          "y": 114.85387123391394
         },
         {
          "x": 46.23096649831025,
          "y": 90.12357206996742
         },
         {
          "x": 68.31936081825536,
          "y": 97.91982103524285
         },
         {
          "x": 50.030174340312136,
          "y": 81.53699078301506
         },
         {
          "x": 49.239765342753756,
          "y": 72.11183246961566
         },
         {
          "x": 50.039575939875995,
          "y": 85.23200734232566
         },
         {
          "x": 48.14985889102886,
          "y": 66.22495788805463
         },
         {
          "x": 25.128484647772304,
          "y": 53.45439421485053
         }
        ]
       },
       "encoding": {
        "x": {
         "field": "x",
         "type": "quantitative"
        },
        "y": {
         "field": "y",
         "type": "quantitative"
        }
       },
       "mark": "circle",
       "title": "data"
      },
      "image/png": "[encoded data removed]",
      "text/plain": [
       "<VegaLite 3 object>\n",
       "\n",
       "If you see this message, it means the renderer has not been properly enabled\n",
       "for the frontend that you are using. For more information, see\n",
       "https://altair-viz.github.io/user_guide/troubleshooting.html\n"
      ]
     },
     "execution_count": 203,
     "metadata": {},
     "output_type": "execute_result"
    }
   ],
   "source": [
    "scatter = alt.Chart(data).mark_circle().encode(\n",
    "    x='x:Q',\n",
    "    y='y:Q'\n",
    ").properties(\n",
    "    title='data'\n",
    ")\n",
    "scatter"
   ]
  },
  {
   "cell_type": "markdown",
   "metadata": {},
   "source": [
    "# Our goal is to align a line to this dataset\n",
    "\n",
    "- why would we want to do that?\n",
    " - we can use this to infer properties of the dataset\n",
    " - we can use it to predict future behaviour (extrapolate)"
   ]
  },
  {
   "cell_type": "code",
   "execution_count": 236,
   "metadata": {},
   "outputs": [
    {
     "name": "stdout",
     "output_type": "stream",
     "text": [
      "\n",
      "Model intercept (position of the line) \n",
      "6.69\n",
      "Model coefficients (slope of the line) \n",
      "1.35\n",
      "Model score (how close are we to fit a line to the data) \n",
      "0.27\n",
      "\n"
     ]
    }
   ],
   "source": [
    "from sklearn import linear_model\n",
    "from sklearn import model_selection\n",
    "model = linear_model.LinearRegression()\n",
    "\n",
    "X_train, X_test, y_train, y_test = model_selection.train_test_split(data['x'], data['y'], test_size=0.2, random_state=0)\n",
    "\n",
    "model.fit(X_train.values.reshape(-1, 1), y_train)\n",
    "\n",
    "#For retrieving the slope:\n",
    "print(\"\"\"\n",
    "Model intercept (position of the line) \\n{:.2f}\n",
    "Model coefficients (slope of the line) \\n{:.2f}\n",
    "Model score (how close are we to fit a line to the data) \\n{:.2f}\n",
    "\"\"\".format(\n",
    "    model.intercept_,\n",
    "    model.coef_[0],\n",
    "    model.score(X_test.values.reshape(-1, 1), y_test)))"
   ]
  },
  {
   "cell_type": "code",
   "execution_count": 252,
   "metadata": {},
   "outputs": [
    {
     "data": {
      "application/vnd.vegalite.v3+json": {
       "$schema": "https://vega.github.io/schema/vega-lite/v3.2.1.json",
       "config": {
        "mark": {
         "tooltip": null
        },
        "view": {
         "height": 300,
         "width": 400
        }
       },
       "datasets": {
        "data-55d63d5d2f1ce4c7912118a585d3a66e": [
         {
          "x": 0,
          "y": 6.687439682550092
         },
         {
          "x": 1,
          "y": 8.032531584612137
         },
         {
          "x": 2,
          "y": 9.377623486674182
         },
         {
          "x": 3,
          "y": 10.722715388736225
         },
         {
          "x": 4,
          "y": 12.06780729079827
         },
         {
          "x": 5,
          "y": 13.412899192860314
         },
         {
          "x": 6,
          "y": 14.757991094922357
         },
         {
          "x": 7,
          "y": 16.1030829969844
         },
         {
          "x": 8,
          "y": 17.448174899046446
         },
         {
          "x": 9,
          "y": 18.79326680110849
         },
         {
          "x": 10,
          "y": 20.138358703170535
         },
         {
          "x": 11,
          "y": 21.483450605232576
         },
         {
          "x": 12,
          "y": 22.82854250729462
         },
         {
          "x": 13,
          "y": 24.173634409356666
         },
         {
          "x": 14,
          "y": 25.51872631141871
         },
         {
          "x": 15,
          "y": 26.863818213480755
         },
         {
          "x": 16,
          "y": 28.2089101155428
         },
         {
          "x": 17,
          "y": 29.554002017604844
         },
         {
          "x": 18,
          "y": 30.89909391966689
         },
         {
          "x": 19,
          "y": 32.244185821728934
         },
         {
          "x": 20,
          "y": 33.58927772379098
         },
         {
          "x": 21,
          "y": 34.93436962585302
         },
         {
          "x": 22,
          "y": 36.27946152791506
         },
         {
          "x": 23,
          "y": 37.62455342997711
         },
         {
          "x": 24,
          "y": 38.96964533203915
         },
         {
          "x": 25,
          "y": 40.314737234101194
         },
         {
          "x": 26,
          "y": 41.65982913616324
         },
         {
          "x": 27,
          "y": 43.004921038225284
         },
         {
          "x": 28,
          "y": 44.35001294028733
         },
         {
          "x": 29,
          "y": 45.69510484234937
         },
         {
          "x": 30,
          "y": 47.04019674441142
         },
         {
          "x": 31,
          "y": 48.38528864647346
         },
         {
          "x": 32,
          "y": 49.73038054853551
         },
         {
          "x": 33,
          "y": 51.07547245059755
         },
         {
          "x": 34,
          "y": 52.420564352659596
         },
         {
          "x": 35,
          "y": 53.76565625472164
         },
         {
          "x": 36,
          "y": 55.110748156783686
         },
         {
          "x": 37,
          "y": 56.45584005884573
         },
         {
          "x": 38,
          "y": 57.800931960907775
         },
         {
          "x": 39,
          "y": 59.14602386296982
         },
         {
          "x": 40,
          "y": 60.491115765031864
         },
         {
          "x": 41,
          "y": 61.8362076670939
         },
         {
          "x": 42,
          "y": 63.18129956915595
         },
         {
          "x": 43,
          "y": 64.52639147121799
         },
         {
          "x": 44,
          "y": 65.87148337328003
         },
         {
          "x": 45,
          "y": 67.21657527534208
         },
         {
          "x": 46,
          "y": 68.56166717740413
         },
         {
          "x": 47,
          "y": 69.90675907946617
         },
         {
          "x": 48,
          "y": 71.25185098152821
         },
         {
          "x": 49,
          "y": 72.59694288359026
         },
         {
          "x": 50,
          "y": 73.9420347856523
         },
         {
          "x": 51,
          "y": 75.28712668771435
         },
         {
          "x": 52,
          "y": 76.63221858977639
         },
         {
          "x": 53,
          "y": 77.97731049183844
         },
         {
          "x": 54,
          "y": 79.32240239390048
         },
         {
          "x": 55,
          "y": 80.66749429596253
         },
         {
          "x": 56,
          "y": 82.01258619802456
         },
         {
          "x": 57,
          "y": 83.35767810008662
         },
         {
          "x": 58,
          "y": 84.70277000214865
         },
         {
          "x": 59,
          "y": 86.0478619042107
         },
         {
          "x": 60,
          "y": 87.39295380627274
         },
         {
          "x": 61,
          "y": 88.7380457083348
         },
         {
          "x": 62,
          "y": 90.08313761039683
         },
         {
          "x": 63,
          "y": 91.42822951245888
         },
         {
          "x": 64,
          "y": 92.77332141452092
         },
         {
          "x": 65,
          "y": 94.11841331658296
         },
         {
          "x": 66,
          "y": 95.46350521864501
         },
         {
          "x": 67,
          "y": 96.80859712070705
         },
         {
          "x": 68,
          "y": 98.1536890227691
         },
         {
          "x": 69,
          "y": 99.49878092483114
         },
         {
          "x": 70,
          "y": 100.84387282689319
         },
         {
          "x": 71,
          "y": 102.18896472895523
         },
         {
          "x": 72,
          "y": 103.53405663101728
         },
         {
          "x": 73,
          "y": 104.87914853307932
         },
         {
          "x": 74,
          "y": 106.22424043514137
         },
         {
          "x": 75,
          "y": 107.5693323372034
         },
         {
          "x": 76,
          "y": 108.91442423926546
         },
         {
          "x": 77,
          "y": 110.2595161413275
         },
         {
          "x": 78,
          "y": 111.60460804338955
         },
         {
          "x": 79,
          "y": 112.94969994545158
         },
         {
          "x": 80,
          "y": 114.29479184751364
         },
         {
          "x": 81,
          "y": 115.63988374957567
         },
         {
          "x": 82,
          "y": 116.98497565163771
         },
         {
          "x": 83,
          "y": 118.33006755369976
         },
         {
          "x": 84,
          "y": 119.6751594557618
         },
         {
          "x": 85,
          "y": 121.02025135782385
         },
         {
          "x": 86,
          "y": 122.36534325988589
         },
         {
          "x": 87,
          "y": 123.71043516194794
         },
         {
          "x": 88,
          "y": 125.05552706400998
         },
         {
          "x": 89,
          "y": 126.40061896607203
         },
         {
          "x": 90,
          "y": 127.74571086813407
         },
         {
          "x": 91,
          "y": 129.09080277019612
         },
         {
          "x": 92,
          "y": 130.43589467225814
         },
         {
          "x": 93,
          "y": 131.7809865743202
         },
         {
          "x": 94,
          "y": 133.12607847638225
         },
         {
          "x": 95,
          "y": 134.4711703784443
         },
         {
          "x": 96,
          "y": 135.81626228050632
         },
         {
          "x": 97,
          "y": 137.16135418256837
         },
         {
          "x": 98,
          "y": 138.50644608463043
         },
         {
          "x": 99,
          "y": 139.85153798669248
         }
        ],
        "data-9e83173549dbe3df1e2a106b1a4d0e45": [
         {
          "x": 32.50234526945303,
          "y": 31.70700584656992
         },
         {
          "x": 53.426804033275026,
          "y": 68.77759598163891
         },
         {
          "x": 61.53035802563643,
          "y": 62.562382297945796
         },
         {
          "x": 47.4756396347861,
          "y": 71.54663223356778
         },
         {
          "x": 59.81320786951232,
          "y": 87.23092513368738
         },
         {
          "x": 55.14218841394383,
          "y": 78.21151827079923
         },
         {
          "x": 52.211796692214,
          "y": 79.64197304980873
         },
         {
          "x": 39.299566694317065,
          "y": 59.17148932186951
         },
         {
          "x": 48.10504169176824,
          "y": 75.33124229706307
         },
         {
          "x": 52.55001444273382,
          "y": 71.30087988685035
         },
         {
          "x": 45.419730144973755,
          "y": 55.16567714595912
         },
         {
          "x": 54.351634881228925,
          "y": 82.47884675749792
         },
         {
          "x": 44.164049496773345,
          "y": 62.00892324572583
         },
         {
          "x": 58.16847071685778,
          "y": 75.39287042599494
         },
         {
          "x": 56.727208057096604,
          "y": 81.43619215887864
         },
         {
          "x": 48.95588856609372,
          "y": 60.72360244067397
         },
         {
          "x": 44.6871962314809,
          "y": 82.8925037314537
         },
         {
          "x": 60.297326851333466,
          "y": 97.37989686216608
         },
         {
          "x": 45.61864377295583,
          "y": 48.84715331735507
         },
         {
          "x": 38.816817537445644,
          "y": 56.8772131862685
         },
         {
          "x": 66.1898166067526,
          "y": 83.87856466460275
         },
         {
          "x": 65.41605174513407,
          "y": 118.5912173025225
         },
         {
          "x": 47.48120860786787,
          "y": 57.25181946226897
         },
         {
          "x": 41.57564261748703,
          "y": 51.391744079832314
         },
         {
          "x": 51.84518690563943,
          "y": 75.38065166531234
         },
         {
          "x": 59.37082201108952,
          "y": 74.76556403215137
         },
         {
          "x": 57.31000343834809,
          "y": 95.45505292257471
         },
         {
          "x": 63.61556125145329,
          "y": 95.2293660175553
         },
         {
          "x": 46.73761940797697,
          "y": 79.05240616956559
         },
         {
          "x": 50.556760148547774,
          "y": 83.4320714213237
         },
         {
          "x": 52.22399608555305,
          "y": 63.358790317497885
         },
         {
          "x": 35.56783004774663,
          "y": 41.41288530370056
         },
         {
          "x": 42.43647694405564,
          "y": 76.61734128007404
         },
         {
          "x": 58.16454011019286,
          "y": 96.76956642610821
         },
         {
          "x": 57.504447615341775,
          "y": 74.08413011660254
         },
         {
          "x": 45.440530725319974,
          "y": 66.5881444142286
         },
         {
          "x": 61.89622268029126,
          "y": 77.76848241779301
         },
         {
          "x": 33.09383173616396,
          "y": 50.719588912312076
         },
         {
          "x": 36.436009511386864,
          "y": 62.12457081807179
         },
         {
          "x": 37.675654860850734,
          "y": 60.81024664990221
         },
         {
          "x": 44.555608383275356,
          "y": 52.68298336638778
         },
         {
          "x": 43.31828263186572,
          "y": 58.569824717692875
         },
         {
          "x": 50.07314563228904,
          "y": 82.90598148507051
         },
         {
          "x": 43.870612645218365,
          "y": 61.424709804339116
         },
         {
          "x": 62.99748074755309,
          "y": 115.24415280079529
         },
         {
          "x": 32.669043763467194,
          "y": 45.57058882337609
         },
         {
          "x": 40.166899008703695,
          "y": 54.08405479622361
         },
         {
          "x": 53.575077531673664,
          "y": 87.99445275811043
         },
         {
          "x": 33.86421497177824,
          "y": 52.72549437590042
         },
         {
          "x": 64.7071386661213,
          "y": 93.57611869265823
         },
         {
          "x": 38.11982402682281,
          "y": 80.16627544737095
         },
         {
          "x": 44.5025380646451,
          "y": 65.10171157056033
         },
         {
          "x": 40.59953838455232,
          "y": 65.56230126040037
         },
         {
          "x": 41.72067635634129,
          "y": 65.28088692082282
         },
         {
          "x": 51.0886346783368,
          "y": 73.4346415463243
         },
         {
          "x": 55.0780959049232,
          "y": 71.13972785861894
         },
         {
          "x": 41.3777265348952,
          "y": 79.10282968354986
         },
         {
          "x": 62.49469742726979,
          "y": 86.52053844034715
         },
         {
          "x": 49.203887540825995,
          "y": 84.7426978078262
         },
         {
          "x": 41.102685187349664,
          "y": 59.358850248624925
         },
         {
          "x": 41.18201610516983,
          "y": 61.68403752483361
         },
         {
          "x": 50.1863894948806,
          "y": 69.84760415824918
         },
         {
          "x": 52.378446219236224,
          "y": 86.0982912057741
         },
         {
          "x": 50.135485486286115,
          "y": 59.10883926769964
         },
         {
          "x": 33.64470600619178,
          "y": 69.89968164362763
         },
         {
          "x": 39.55790122290683,
          "y": 44.8624907111644
         },
         {
          "x": 56.13038881687546,
          "y": 85.49806777884022
         },
         {
          "x": 57.36205213323824,
          "y": 95.53668684646723
         },
         {
          "x": 60.269214393997906,
          "y": 70.2519344197716
         },
         {
          "x": 35.678093889410725,
          "y": 52.72173496477498
         },
         {
          "x": 31.58811699813283,
          "y": 50.3926701350799
         },
         {
          "x": 53.66093226167304,
          "y": 63.642398775657746
         },
         {
          "x": 46.682228649471924,
          "y": 72.24725106866238
         },
         {
          "x": 43.10782021910247,
          "y": 57.8125129761814
         },
         {
          "x": 70.34607561504933,
          "y": 104.2571015854382
         },
         {
          "x": 44.49285588085407,
          "y": 86.642020318822
         },
         {
          "x": 57.5045333032684,
          "y": 91.48677800011014
         },
         {
          "x": 36.930076609191815,
          "y": 55.23166088621284
         },
         {
          "x": 55.80573335794274,
          "y": 79.55043667850762
         },
         {
          "x": 38.95476907337706,
          "y": 44.8471242424676
         },
         {
          "x": 56.90121470224707,
          "y": 80.20752313968275
         },
         {
          "x": 56.868900661384046,
          "y": 83.14274979204346
         },
         {
          "x": 34.33312470421609,
          "y": 55.72348926054392
         },
         {
          "x": 59.04974121466682,
          "y": 77.63418251167785
         },
         {
          "x": 57.788223993230666,
          "y": 99.05141484174827
         },
         {
          "x": 54.28232870596741,
          "y": 79.12064627468001
         },
         {
          "x": 51.088719898979136,
          "y": 69.58889785111847
         },
         {
          "x": 50.282836348230724,
          "y": 69.51050331149439
         },
         {
          "x": 44.21174175209011,
          "y": 73.68756431831729
         },
         {
          "x": 38.00548800806069,
          "y": 61.36690453724013
         },
         {
          "x": 32.940479942618296,
          "y": 67.17065576899512
         },
         {
          "x": 53.69163957107006,
          "y": 85.66820314500154
         },
         {
          "x": 68.76573426962166,
          "y": 114.85387123391394
         },
         {
          "x": 46.23096649831025,
          "y": 90.12357206996742
         },
         {
          "x": 68.31936081825536,
          "y": 97.91982103524285
         },
         {
          "x": 50.030174340312136,
          "y": 81.53699078301506
         },
         {
          "x": 49.239765342753756,
          "y": 72.11183246961566
         },
         {
          "x": 50.039575939875995,
          "y": 85.23200734232566
         },
         {
          "x": 48.14985889102886,
          "y": 66.22495788805463
         },
         {
          "x": 25.128484647772304,
          "y": 53.45439421485053
         }
        ]
       },
       "layer": [
        {
         "data": {
          "name": "data-9e83173549dbe3df1e2a106b1a4d0e45"
         },
         "encoding": {
          "x": {
           "field": "x",
           "type": "quantitative"
          },
          "y": {
           "field": "y",
           "type": "quantitative"
          }
         },
         "mark": "circle",
         "title": "data"
        },
        {
         "data": {
          "name": "data-55d63d5d2f1ce4c7912118a585d3a66e"
         },
         "encoding": {
          "tooltip": [
           {
            "field": "y",
            "title": "b * x + m",
            "type": "quantitative"
           }
          ],
          "x": {
           "field": "x",
           "type": "quantitative"
          },
          "y": {
           "field": "y",
           "type": "quantitative"
          }
         },
         "mark": "line",
         "selection": {
          "selector004": {
           "bind": "scales",
           "encodings": [
            "x",
            "y"
           ],
           "type": "interval"
          }
         }
        }
       ]
      },
      "image/png": "[encoded data removed]",
      "text/plain": [
       "<VegaLite 3 object>\n",
       "\n",
       "If you see this message, it means the renderer has not been properly enabled\n",
       "for the frontend that you are using. For more information, see\n",
       "https://altair-viz.github.io/user_guide/troubleshooting.html\n"
      ]
     },
     "execution_count": 252,
     "metadata": {},
     "output_type": "execute_result"
    }
   ],
   "source": [
    "def make_line_using(m, b):\n",
    "    # y = m * x + b\n",
    "    x = np.arange(100)\n",
    "    y = m * x + b\n",
    "    df = pd.DataFrame(np.matrix([x,y]).T, columns=['x','y'])\n",
    "    line = alt.Chart(df).mark_line().encode(\n",
    "        x='x:Q',\n",
    "        y='y:Q',\n",
    "        tooltip=[alt.Tooltip('y', title='b * x + m')]\n",
    "    ).interactive()\n",
    "    return (scatter + (line))\n",
    "\n",
    "\n",
    "\n",
    "m_guess = model.coef_[0]\n",
    "b_guess = model.intercept_\n",
    "make_line_using(m_guess, b_guess)"
   ]
  },
  {
   "cell_type": "markdown",
   "metadata": {},
   "source": [
    "# Now let's try to implement this ourselves!\n",
    "\n",
    "### Naive approach to guess until we get a good fit\n",
    "guessing the beta parameters linear equation\n",
    "\n",
    "\n",
    "$ y = m \\times \\mathbf{x} + b$"
   ]
  },
  {
   "cell_type": "code",
   "execution_count": 269,
   "metadata": {},
   "outputs": [],
   "source": [
    "def plot_on_top_of_data(m, b):\n",
    "    # y = B_2 * x + B_1\n",
    "    x = np.arange(100)\n",
    "    y = b * x + m\n",
    "    df = pd.DataFrame(np.matrix([x,y]).T, columns=['x','y'])\n",
    "    line = alt.Chart(df).mark_line().encode(\n",
    "        x='x:Q',\n",
    "        y='y:Q'\n",
    "    )\n",
    "    return (scatter + (line))"
   ]
  },
  {
   "cell_type": "markdown",
   "metadata": {},
   "source": [
    "Our guess\n",
    "\n",
    "$ y = 2 \\times \\mathbf{x} + 1$"
   ]
  },
  {
   "cell_type": "code",
   "execution_count": 270,
   "metadata": {},
   "outputs": [
    {
     "data": {
      "application/vnd.vegalite.v3+json": {
       "$schema": "https://vega.github.io/schema/vega-lite/v3.2.1.json",
       "config": {
        "mark": {
         "tooltip": null
        },
        "view": {
         "height": 300,
         "width": 400
        }
       },
       "datasets": {
        "data-06eae147f67859e60cdf5bd920ed00d0": [
         {
          "x": 0,
          "y": 2
         },
         {
          "x": 1,
          "y": 3
         },
         {
          "x": 2,
          "y": 4
         },
         {
          "x": 3,
          "y": 5
         },
         {
          "x": 4,
          "y": 6
         },
         {
          "x": 5,
          "y": 7
         },
         {
          "x": 6,
          "y": 8
         },
         {
          "x": 7,
          "y": 9
         },
         {
          "x": 8,
          "y": 10
         },
         {
          "x": 9,
          "y": 11
         },
         {
          "x": 10,
          "y": 12
         },
         {
          "x": 11,
          "y": 13
         },
         {
          "x": 12,
          "y": 14
         },
         {
          "x": 13,
          "y": 15
         },
         {
          "x": 14,
          "y": 16
         },
         {
          "x": 15,
          "y": 17
         },
         {
          "x": 16,
          "y": 18
         },
         {
          "x": 17,
          "y": 19
         },
         {
          "x": 18,
          "y": 20
         },
         {
          "x": 19,
          "y": 21
         },
         {
          "x": 20,
          "y": 22
         },
         {
          "x": 21,
          "y": 23
         },
         {
          "x": 22,
          "y": 24
         },
         {
          "x": 23,
          "y": 25
         },
         {
          "x": 24,
          "y": 26
         },
         {
          "x": 25,
          "y": 27
         },
         {
          "x": 26,
          "y": 28
         },
         {
          "x": 27,
          "y": 29
         },
         {
          "x": 28,
          "y": 30
         },
         {
          "x": 29,
          "y": 31
         },
         {
          "x": 30,
          "y": 32
         },
         {
          "x": 31,
          "y": 33
         },
         {
          "x": 32,
          "y": 34
         },
         {
          "x": 33,
          "y": 35
         },
         {
          "x": 34,
          "y": 36
         },
         {
          "x": 35,
          "y": 37
         },
         {
          "x": 36,
          "y": 38
         },
         {
          "x": 37,
          "y": 39
         },
         {
          "x": 38,
          "y": 40
         },
         {
          "x": 39,
          "y": 41
         },
         {
          "x": 40,
          "y": 42
         },
         {
          "x": 41,
          "y": 43
         },
         {
          "x": 42,
          "y": 44
         },
         {
          "x": 43,
          "y": 45
         },
         {
          "x": 44,
          "y": 46
         },
         {
          "x": 45,
          "y": 47
         },
         {
          "x": 46,
          "y": 48
         },
         {
          "x": 47,
          "y": 49
         },
         {
          "x": 48,
          "y": 50
         },
         {
          "x": 49,
          "y": 51
         },
         {
          "x": 50,
          "y": 52
         },
         {
          "x": 51,
          "y": 53
         },
         {
          "x": 52,
          "y": 54
         },
         {
          "x": 53,
          "y": 55
         },
         {
          "x": 54,
          "y": 56
         },
         {
          "x": 55,
          "y": 57
         },
         {
          "x": 56,
          "y": 58
         },
         {
          "x": 57,
          "y": 59
         },
         {
          "x": 58,
          "y": 60
         },
         {
          "x": 59,
          "y": 61
         },
         {
          "x": 60,
          "y": 62
         },
         {
          "x": 61,
          "y": 63
         },
         {
          "x": 62,
          "y": 64
         },
         {
          "x": 63,
          "y": 65
         },
         {
          "x": 64,
          "y": 66
         },
         {
          "x": 65,
          "y": 67
         },
         {
          "x": 66,
          "y": 68
         },
         {
          "x": 67,
          "y": 69
         },
         {
          "x": 68,
          "y": 70
         },
         {
          "x": 69,
          "y": 71
         },
         {
          "x": 70,
          "y": 72
         },
         {
          "x": 71,
          "y": 73
         },
         {
          "x": 72,
          "y": 74
         },
         {
          "x": 73,
          "y": 75
         },
         {
          "x": 74,
          "y": 76
         },
         {
          "x": 75,
          "y": 77
         },
         {
          "x": 76,
          "y": 78
         },
         {
          "x": 77,
          "y": 79
         },
         {
          "x": 78,
          "y": 80
         },
         {
          "x": 79,
          "y": 81
         },
         {
          "x": 80,
          "y": 82
         },
         {
          "x": 81,
          "y": 83
         },
         {
          "x": 82,
          "y": 84
         },
         {
          "x": 83,
          "y": 85
         },
         {
          "x": 84,
          "y": 86
         },
         {
          "x": 85,
          "y": 87
         },
         {
          "x": 86,
          "y": 88
         },
         {
          "x": 87,
          "y": 89
         },
         {
          "x": 88,
          "y": 90
         },
         {
          "x": 89,
          "y": 91
         },
         {
          "x": 90,
          "y": 92
         },
         {
          "x": 91,
          "y": 93
         },
         {
          "x": 92,
          "y": 94
         },
         {
          "x": 93,
          "y": 95
         },
         {
          "x": 94,
          "y": 96
         },
         {
          "x": 95,
          "y": 97
         },
         {
          "x": 96,
          "y": 98
         },
         {
          "x": 97,
          "y": 99
         },
         {
          "x": 98,
          "y": 100
         },
         {
          "x": 99,
          "y": 101
         }
        ],
        "data-9e83173549dbe3df1e2a106b1a4d0e45": [
         {
          "x": 32.50234526945303,
          "y": 31.70700584656992
         },
         {
          "x": 53.426804033275026,
          "y": 68.77759598163891
         },
         {
          "x": 61.53035802563643,
          "y": 62.562382297945796
         },
         {
          "x": 47.4756396347861,
          "y": 71.54663223356778
         },
         {
          "x": 59.81320786951232,
          "y": 87.23092513368738
         },
         {
          "x": 55.14218841394383,
          "y": 78.21151827079923
         },
         {
          "x": 52.211796692214,
          "y": 79.64197304980873
         },
         {
          "x": 39.299566694317065,
          "y": 59.17148932186951
         },
         {
          "x": 48.10504169176824,
          "y": 75.33124229706307
         },
         {
          "x": 52.55001444273382,
          "y": 71.30087988685035
         },
         {
          "x": 45.419730144973755,
          "y": 55.16567714595912
         },
         {
          "x": 54.351634881228925,
          "y": 82.47884675749792
         },
         {
          "x": 44.164049496773345,
          "y": 62.00892324572583
         },
         {
          "x": 58.16847071685778,
          "y": 75.39287042599494
         },
         {
          "x": 56.727208057096604,
          "y": 81.43619215887864
         },
         {
          "x": 48.95588856609372,
          "y": 60.72360244067397
         },
         {
          "x": 44.6871962314809,
          "y": 82.8925037314537
         },
         {
          "x": 60.297326851333466,
          "y": 97.37989686216608
         },
         {
          "x": 45.61864377295583,
          "y": 48.84715331735507
         },
         {
          "x": 38.816817537445644,
          "y": 56.8772131862685
         },
         {
          "x": 66.1898166067526,
          "y": 83.87856466460275
         },
         {
          "x": 65.41605174513407,
          "y": 118.5912173025225
         },
         {
          "x": 47.48120860786787,
          "y": 57.25181946226897
         },
         {
          "x": 41.57564261748703,
          "y": 51.391744079832314
         },
         {
          "x": 51.84518690563943,
          "y": 75.38065166531234
         },
         {
          "x": 59.37082201108952,
          "y": 74.76556403215137
         },
         {
          "x": 57.31000343834809,
          "y": 95.45505292257471
         },
         {
          "x": 63.61556125145329,
          "y": 95.2293660175553
         },
         {
          "x": 46.73761940797697,
          "y": 79.05240616956559
         },
         {
          "x": 50.556760148547774,
          "y": 83.4320714213237
         },
         {
          "x": 52.22399608555305,
          "y": 63.358790317497885
         },
         {
          "x": 35.56783004774663,
          "y": 41.41288530370056
         },
         {
          "x": 42.43647694405564,
          "y": 76.61734128007404
         },
         {
          "x": 58.16454011019286,
          "y": 96.76956642610821
         },
         {
          "x": 57.504447615341775,
          "y": 74.08413011660254
         },
         {
          "x": 45.440530725319974,
          "y": 66.5881444142286
         },
         {
          "x": 61.89622268029126,
          "y": 77.76848241779301
         },
         {
          "x": 33.09383173616396,
          "y": 50.719588912312076
         },
         {
          "x": 36.436009511386864,
          "y": 62.12457081807179
         },
         {
          "x": 37.675654860850734,
          "y": 60.81024664990221
         },
         {
          "x": 44.555608383275356,
          "y": 52.68298336638778
         },
         {
          "x": 43.31828263186572,
          "y": 58.569824717692875
         },
         {
          "x": 50.07314563228904,
          "y": 82.90598148507051
         },
         {
          "x": 43.870612645218365,
          "y": 61.424709804339116
         },
         {
          "x": 62.99748074755309,
          "y": 115.24415280079529
         },
         {
          "x": 32.669043763467194,
          "y": 45.57058882337609
         },
         {
          "x": 40.166899008703695,
          "y": 54.08405479622361
         },
         {
          "x": 53.575077531673664,
          "y": 87.99445275811043
         },
         {
          "x": 33.86421497177824,
          "y": 52.72549437590042
         },
         {
          "x": 64.7071386661213,
          "y": 93.57611869265823
         },
         {
          "x": 38.11982402682281,
          "y": 80.16627544737095
         },
         {
          "x": 44.5025380646451,
          "y": 65.10171157056033
         },
         {
          "x": 40.59953838455232,
          "y": 65.56230126040037
         },
         {
          "x": 41.72067635634129,
          "y": 65.28088692082282
         },
         {
          "x": 51.0886346783368,
          "y": 73.4346415463243
         },
         {
          "x": 55.0780959049232,
          "y": 71.13972785861894
         },
         {
          "x": 41.3777265348952,
          "y": 79.10282968354986
         },
         {
          "x": 62.49469742726979,
          "y": 86.52053844034715
         },
         {
          "x": 49.203887540825995,
          "y": 84.7426978078262
         },
         {
          "x": 41.102685187349664,
          "y": 59.358850248624925
         },
         {
          "x": 41.18201610516983,
          "y": 61.68403752483361
         },
         {
          "x": 50.1863894948806,
          "y": 69.84760415824918
         },
         {
          "x": 52.378446219236224,
          "y": 86.0982912057741
         },
         {
          "x": 50.135485486286115,
          "y": 59.10883926769964
         },
         {
          "x": 33.64470600619178,
          "y": 69.89968164362763
         },
         {
          "x": 39.55790122290683,
          "y": 44.8624907111644
         },
         {
          "x": 56.13038881687546,
          "y": 85.49806777884022
         },
         {
          "x": 57.36205213323824,
          "y": 95.53668684646723
         },
         {
          "x": 60.269214393997906,
          "y": 70.2519344197716
         },
         {
          "x": 35.678093889410725,
          "y": 52.72173496477498
         },
         {
          "x": 31.58811699813283,
          "y": 50.3926701350799
         },
         {
          "x": 53.66093226167304,
          "y": 63.642398775657746
         },
         {
          "x": 46.682228649471924,
          "y": 72.24725106866238
         },
         {
          "x": 43.10782021910247,
          "y": 57.8125129761814
         },
         {
          "x": 70.34607561504933,
          "y": 104.2571015854382
         },
         {
          "x": 44.49285588085407,
          "y": 86.642020318822
         },
         {
          "x": 57.5045333032684,
          "y": 91.48677800011014
         },
         {
          "x": 36.930076609191815,
          "y": 55.23166088621284
         },
         {
          "x": 55.80573335794274,
          "y": 79.55043667850762
         },
         {
          "x": 38.95476907337706,
          "y": 44.8471242424676
         },
         {
          "x": 56.90121470224707,
          "y": 80.20752313968275
         },
         {
          "x": 56.868900661384046,
          "y": 83.14274979204346
         },
         {
          "x": 34.33312470421609,
          "y": 55.72348926054392
         },
         {
          "x": 59.04974121466682,
          "y": 77.63418251167785
         },
         {
          "x": 57.788223993230666,
          "y": 99.05141484174827
         },
         {
          "x": 54.28232870596741,
          "y": 79.12064627468001
         },
         {
          "x": 51.088719898979136,
          "y": 69.58889785111847
         },
         {
          "x": 50.282836348230724,
          "y": 69.51050331149439
         },
         {
          "x": 44.21174175209011,
          "y": 73.68756431831729
         },
         {
          "x": 38.00548800806069,
          "y": 61.36690453724013
         },
         {
          "x": 32.940479942618296,
          "y": 67.17065576899512
         },
         {
          "x": 53.69163957107006,
          "y": 85.66820314500154
         },
         {
          "x": 68.76573426962166,
          "y": 114.85387123391394
         },
         {
          "x": 46.23096649831025,
          "y": 90.12357206996742
         },
         {
          "x": 68.31936081825536,
          "y": 97.91982103524285
         },
         {
          "x": 50.030174340312136,
          "y": 81.53699078301506
         },
         {
          "x": 49.239765342753756,
          "y": 72.11183246961566
         },
         {
          "x": 50.039575939875995,
          "y": 85.23200734232566
         },
         {
          "x": 48.14985889102886,
          "y": 66.22495788805463
         },
         {
          "x": 25.128484647772304,
          "y": 53.45439421485053
         }
        ]
       },
       "layer": [
        {
         "data": {
          "name": "data-9e83173549dbe3df1e2a106b1a4d0e45"
         },
         "encoding": {
          "x": {
           "field": "x",
           "type": "quantitative"
          },
          "y": {
           "field": "y",
           "type": "quantitative"
          }
         },
         "mark": "circle",
         "title": "data"
        },
        {
         "data": {
          "name": "data-06eae147f67859e60cdf5bd920ed00d0"
         },
         "encoding": {
          "x": {
           "field": "x",
           "type": "quantitative"
          },
          "y": {
           "field": "y",
           "type": "quantitative"
          }
         },
         "mark": "line"
        }
       ]
      },
      "image/png": "[encoded data removed]",
      "text/plain": [
       "<VegaLite 3 object>\n",
       "\n",
       "If you see this message, it means the renderer has not been properly enabled\n",
       "for the frontend that you are using. For more information, see\n",
       "https://altair-viz.github.io/user_guide/troubleshooting.html\n"
      ]
     },
     "execution_count": 270,
     "metadata": {},
     "output_type": "execute_result"
    }
   ],
   "source": [
    "m_guess = 2\n",
    "b_guess = 1\n",
    "plot_on_top_of_data(m_guess, b_guess)"
   ]
  },
  {
   "cell_type": "markdown",
   "metadata": {},
   "source": [
    "#### Not the most sufficient algorithm but might work. \n",
    "\n",
    "hmmmmmm ¯\\\\_(ツ)_/¯\n",
    "let's think of another approach.\n",
    "\n",
    "> Can we we somehow see if we have a good guess?"
   ]
  },
  {
   "cell_type": "markdown",
   "metadata": {},
   "source": [
    "# Let's improve our guessing strategy using Gradient Descent\n",
    "\n",
    "**Gradient descent** is an optimization algorithm used to **minimize some function (loss function)** by iteratively moving in the direction of steepest descent as defined by the negative of the gradient. In machine learning, we use gradient descent to update the parameters of our model. Parameters refer to coefficients in Linear Regression and weights in neural networks.\n",
    "\n",
    "![landscape](https://ml-cheatsheet.readthedocs.io/en/latest/_images/gradient_descent.png)\n",
    "\n",
    "\n",
    "\n",
    "Starting at the top of the mountain, we take our first step downhill in the direction specified by the negative gradient. \n",
    "We continue this process iteratively until we get to the bottom of our graph, or to a point where we can no longer move downhill–a local minimum.\n",
    "\n",
    "![winner](https://ml-cheatsheet.readthedocs.io/en/latest/_images/gradient_descent_demystified.png)\n",
    "\n",
    "[math.stackexchange - Partial derivative in gradient descent](https://math.stackexchange.com/a/1695446/196117)\n",
    "\n",
    "[ml-cheatsheet](https://ml-cheatsheet.readthedocs.io/en/latest/gradient_descent.html)"
   ]
  },
  {
   "cell_type": "markdown",
   "metadata": {},
   "source": [
    "## Let's introduce the loss function (or cost/error)\n",
    "\n",
    "A Loss Functions tells us “how good” our model is at making predictions for a given set of parameters. The loss function has its own curve and its own gradients. The slope of this curve tells us how to update our parameters to make the model more accurate.\n",
    "\n",
    "${\\displaystyle \\operatorname {MSE} ={\\frac {1}{n}}\\sum _{i=1}^{n}(Y_{i}-{\\hat {Y_{i}}})^{2}.}$\n",
    "\n",
    "\n",
    "\n",
    "Given ${\\displaystyle n}$ predictions generated to ${\\hat{Y}}$, and ${\\displaystyle Y}$ is the vector of observed values of the variable being predicted.\n",
    "\n",
    "---\n",
    "Our example with \n",
    "$ \\hat{Y} = mx_i + b$\n",
    "\n",
    "Now let’s run gradient descent using our new loss function. There are two parameters in our lost function we can control: m (weight) and b (bias). \n",
    "\n",
    "Since we need to consider the impact each one has on the final prediction, we need to use partial derivatives. We calculate the partial derivatives of the loss function with respect to each parameter and store the results in a gradient.\n",
    "\n",
    "\n",
    "\n",
    "Given the loss function:\n",
    "\n",
    "$ f(m,b) =  \\frac{1}{N} \\sum_{i=1}^{n} (y_i - (mx_i + b))^2 $\n",
    "\n",
    "The gradient can be calculated as:\n",
    "\n",
    "$ \\begin{split}f'(m,b) =\n",
    "   \\begin{bmatrix}\n",
    "     \\frac{df}{dm}\\\\\n",
    "     \\frac{df}{db}\\\\\n",
    "    \\end{bmatrix}\n",
    "=\n",
    "   \\begin{bmatrix}\n",
    "     \\frac{1}{N} \\sum -2x_i(y_i - (mx_i + b)) \\\\\n",
    "     \\frac{1}{N} \\sum -2(y_i - (mx_i + b)) \\\\\n",
    "    \\end{bmatrix}\\end{split}\n",
    "$"
   ]
  },
  {
   "cell_type": "code",
   "execution_count": 255,
   "metadata": {},
   "outputs": [],
   "source": [
    "def step_gradient(m: int, b: int, points: np.ndarray, learning_rate: float) -> list:\n",
    "    \"\"\"\n",
    "    this calculates the gradient step of a **linear function**\n",
    "    WILL NOT WORK for multiple dimensional data,\n",
    "    since the derivates will be on matricies instead\n",
    "    \"\"\"\n",
    "    b_gradient = 0\n",
    "    m_gradient = 0\n",
    "    N = float(len(points))\n",
    "    for i in range(0, len(points)):\n",
    "        x = points[i, 0]\n",
    "        y = points[i, 1]\n",
    "        b_gradient += -(2/N) * (y - ((m * x) + b))\n",
    "        m_gradient += -(2/N) * x * (y - ((m * x) + b))\n",
    "    b = b - (learning_rate * b_gradient)\n",
    "    m = m - (learning_rate * m_gradient)\n",
    "    return [b, m]"
   ]
  },
  {
   "cell_type": "code",
   "execution_count": 256,
   "metadata": {},
   "outputs": [
    {
     "data": {
      "text/plain": [
       "(6.6874785109966535, 1.3465666635682905)"
      ]
     },
     "execution_count": 256,
     "metadata": {},
     "output_type": "execute_result"
    }
   ],
   "source": [
    "new_b, new_m = step_gradient(m_guess, b_guess, data.values, learning_rate)\n",
    "new_b, new_m"
   ]
  },
  {
   "cell_type": "code",
   "execution_count": 257,
   "metadata": {},
   "outputs": [],
   "source": [
    "# Let's run through it through the whole dataset"
   ]
  },
  {
   "cell_type": "code",
   "execution_count": 258,
   "metadata": {},
   "outputs": [],
   "source": [
    "def gradient_descent_runner(points, starting_m, starting_b, learning_rate, num_iterations):\n",
    "    m = starting_m\n",
    "    b = starting_b\n",
    "    for i in range(num_iterations):\n",
    "        m, b = step_gradient(m, b, np.array(points), learning_rate)\n",
    "    return [m, b]"
   ]
  },
  {
   "cell_type": "code",
   "execution_count": 261,
   "metadata": {},
   "outputs": [],
   "source": [
    "number_iterations = 10000\n",
    "[m, b] = gradient_descent_runner(\n",
    "    data, \n",
    "    m_guess, \n",
    "    b_guess, \n",
    "    learning_rate, \n",
    "    number_iterations\n",
    ")"
   ]
  },
  {
   "cell_type": "code",
   "execution_count": 264,
   "metadata": {},
   "outputs": [
    {
     "name": "stdout",
     "output_type": "stream",
     "text": [
      "Starting gradient descent at guess_m = 1.3450919020620442, guess_b = 6.687439682550092\n",
      "Last gradient descent at guess_m = 1.4510680203998683, guess_b = 1.4510195909326549\n"
     ]
    }
   ],
   "source": [
    "print(\"Starting gradient descent at guess_m = {0}, guess_b = {1}\".format(\n",
    "    m_guess, \n",
    "    b_guess\n",
    "))\n",
    "print(\"Last gradient descent at guess_m = {0}, guess_b = {1}\".format(\n",
    "    m, \n",
    "    b\n",
    "))\n"
   ]
  },
  {
   "cell_type": "code",
   "execution_count": 273,
   "metadata": {},
   "outputs": [],
   "source": [
    "def compute_error_for_line(m, b, points):\n",
    "    total_error = 0\n",
    "    # sum (y_i - y_hat_i) ^ 2\n",
    "    for i in range(0, len(points)):\n",
    "        x = points[i, 0]\n",
    "        y = points[i, 1]\n",
    "        total_error += (y - (m * x + b)) ** 2\n",
    "    # 1 / n\n",
    "    mse = total_error / float(len(points))\n",
    "    return mse"
   ]
  },
  {
   "cell_type": "code",
   "execution_count": 275,
   "metadata": {},
   "outputs": [
    {
     "data": {
      "text/plain": [
       "838.9099083602013"
      ]
     },
     "execution_count": 275,
     "metadata": {},
     "output_type": "execute_result"
    }
   ],
   "source": [
    "# lets see how bad our guess was\n",
    "\n",
    "compute_error_for_line(m_guess, b_guess, data.values)"
   ]
  },
  {
   "cell_type": "code",
   "execution_count": 277,
   "metadata": {},
   "outputs": [
    {
     "name": "stdout",
     "output_type": "stream",
     "text": [
      "Starting gradient descent at \n",
      " guess_m = 2, guess_b = 1, error 838.9099083602013\n",
      "Last gradient descent at \n",
      " guess_m = 1.4510680203998683, guess_b = 1.4510195909326549, error 111.87217648730648\n"
     ]
    }
   ],
   "source": [
    "print(\"Starting gradient descent at \\n guess_m = {0}, guess_b = {1}, error {2}\".format(\n",
    "    m_guess, \n",
    "    b_guess,\n",
    "    compute_error_for_line(m_guess, b_guess, data.values)\n",
    "))\n",
    "print(\"Last gradient descent at \\n guess_m = {0}, guess_b = {1}, error {2}\".format(\n",
    "    m, \n",
    "    b,\n",
    "    compute_error_for_line(m, b, data.values)\n",
    "))\n"
   ]
  },
  {
   "cell_type": "markdown",
   "metadata": {},
   "source": [
    "# How does gradient descent work?\n",
    "---\n",
    "In it's most general form:\n",
    "\n",
    "Gradient descent is based on the observation that if the multi-variable function ${\\displaystyle F(\\mathbf {x} )}$ is defined and differentiable in a neighborhood of a point ${\\displaystyle \\mathbf {a} }$ , then ${\\displaystyle F(\\mathbf {x} )}$ decreases fastest if one goes from ${\\displaystyle \\mathbf {a} }$  in the direction of the negative gradient of ${\\displaystyle F}$ at ${\\displaystyle,-\\nabla F(\\mathbf {a} )}$. It follows that, if\n",
    "\n",
    "\n",
    "\n",
    "${\\displaystyle \\mathbf {a} _{n+1}=\\mathbf {a} _{n}-\\gamma \\nabla F(\\mathbf {a} _{n})}$\n",
    "\n",
    "for ${\\displaystyle \\gamma \\in \\mathbb {R} _{+}}$ small enough, then ${\\displaystyle F(\\mathbf {a_{n}} )\\geq F(\\mathbf {a_{n+1}} )}$. In other words, the term ${\\displaystyle \\gamma \\nabla F(\\mathbf {a} )}$ is subtracted from ${\\displaystyle \\mathbf {a} }$  because we want to move against the gradient, toward the minimum.\n",
    "\n",
    "Here we have defined and the algorith works with contraints:\n",
    "\n",
    "\n",
    "**learning rate** ${\\gamma}$, for small ${\\displaystyle \\gamma \\in \\mathbb {R} _{+}}$\n",
    "\n",
    "\n",
    "**function** $F(\\mathbf{x})$,  if differentiable; then ${\\displaystyle F(\\mathbf {a_{n}} )\\geq F(\\mathbf {a_{n+1}} )}$\n",
    "\n",
    "**Leading to** ($\\leadsto $) a monotonic sequence $F(\\mathbf {x} _{0})\\geq F(\\mathbf {x} _{1})\\geq F(\\mathbf {x} _{2})\\geq \\cdots,$"
   ]
  },
  {
   "cell_type": "markdown",
   "metadata": {},
   "source": [
    "# Coming back to the real world\n",
    "\n",
    "Scikit learn provides you two approaches to linear regression:\n",
    "\n",
    "If you can decompose your loss function into additive terms, then stochastic approach is known to behave better (thus SGD) and if you can spare enough memory - OLS method is faster and easier (thus first solution).\n",
    "\n",
    "1) `LinearRegression` object uses **Ordinary Least Squares** solver from scipy, as LR is one of two classifiers which have closed form solution. Despite the ML course - you can actually learn this model by just inverting and multiplicating some matrices.\n",
    "\n",
    "2) `SGDRegressor` which is an implementation of **stochastic gradient descent**, very generic one where you can choose your penalty terms. To obtain linear regression you choose loss to be L2 and penalty also to none (linear regression) or L2 (Ridge regression)\n",
    "\n",
    "The \"gradient descent\" is a major part of most learning algorithm. What you will see most often is a improved version of the algorithm **Stochastic Gradient Descent**.\n",
    "\n",
    "\n",
    "source - [linear regression scitkit](https://stackoverflow.com/questions/34469237/linear-regression-and-gradient-descent-in-scikit-learn-pandas)"
   ]
  }
 ],
 "metadata": {
  "kernelspec": {
   "display_name": "Python 3",
   "language": "python",
   "name": "python3"
  },
  "language_info": {
   "codemirror_mode": {
    "name": "ipython",
    "version": 3
   },
   "file_extension": ".py",
   "mimetype": "text/x-python",
   "name": "python",
   "nbconvert_exporter": "python",
   "pygments_lexer": "ipython3",
   "version": "3.6.1"
  }
 },
 "nbformat": 4,
 "nbformat_minor": 4
}
